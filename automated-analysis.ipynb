{
 "cells": [
  {
   "cell_type": "code",
   "execution_count": 95,
   "metadata": {
    "collapsed": false
   },
   "outputs": [],
   "source": [
    "%matplotlib inline\n",
    "\n",
    "import numpy as np\n",
    "import pandas as pd\n",
    "import matplotlib.pyplot as plt \n",
    "import seaborn as sns"
   ]
  },
  {
   "cell_type": "code",
   "execution_count": 96,
   "metadata": {
    "collapsed": false
   },
   "outputs": [],
   "source": [
    "df = pd.read_csv(\"data/1.32.csv\")"
   ]
  },
  {
   "cell_type": "markdown",
   "metadata": {},
   "source": [
    "## normalization"
   ]
  },
  {
   "cell_type": "code",
   "execution_count": 97,
   "metadata": {
    "collapsed": false
   },
   "outputs": [],
   "source": [
    "df[\"userTime\"] = df[\"userTime\"].astype(pd.Timestamp)\n",
    "df[\"serverTime\"] = df[\"serverTime\"].astype(np.datetime64)\n",
    "df[\"gameVersion\"] = df[\"gameVersion\"].astype(str)\n"
   ]
  },
  {
   "cell_type": "code",
   "execution_count": 98,
   "metadata": {
    "collapsed": false
   },
   "outputs": [
    {
     "data": {
      "text/html": [
       "<div>\n",
       "<table border=\"1\" class=\"dataframe\">\n",
       "  <thead>\n",
       "    <tr style=\"text-align: right;\">\n",
       "      <th></th>\n",
       "      <th>id</th>\n",
       "      <th>serverTime</th>\n",
       "      <th>userTime</th>\n",
       "      <th>gameVersion</th>\n",
       "      <th>playerId</th>\n",
       "      <th>playerBirthdate</th>\n",
       "      <th>playerRegion</th>\n",
       "      <th>playerCountry</th>\n",
       "      <th>playerGender</th>\n",
       "      <th>playerExternalId</th>\n",
       "      <th>...</th>\n",
       "      <th>type</th>\n",
       "      <th>coordinates</th>\n",
       "      <th>section</th>\n",
       "      <th>customData.language</th>\n",
       "      <th>customData.controls</th>\n",
       "      <th>customData.device</th>\n",
       "      <th>customData.sound</th>\n",
       "      <th>customData.gamelevel</th>\n",
       "      <th>customData</th>\n",
       "      <th>customData.dnabit</th>\n",
       "    </tr>\n",
       "  </thead>\n",
       "  <tbody>\n",
       "    <tr>\n",
       "      <th>0</th>\n",
       "      <td>13815a6e-da1d-4b1d-862f-6e394a4cec98</td>\n",
       "      <td>2015-09-10 12:32:45.204</td>\n",
       "      <td>2015-09-10T12:32:48.469Z</td>\n",
       "      <td>be209fe8-0ef3-4291-a5f4-c2b389f5d77d</td>\n",
       "      <td>2bb4a2ab-eaf1-4e0e-b2fe-5f5e88248733</td>\n",
       "      <td>NaN</td>\n",
       "      <td>NaN</td>\n",
       "      <td>NaN</td>\n",
       "      <td>NaN</td>\n",
       "      <td>NaN</td>\n",
       "      <td>...</td>\n",
       "      <td>start</td>\n",
       "      <td>[-6, 143]</td>\n",
       "      <td>NaN</td>\n",
       "      <td>NaN</td>\n",
       "      <td>NaN</td>\n",
       "      <td>NaN</td>\n",
       "      <td>NaN</td>\n",
       "      <td>NaN</td>\n",
       "      <td>null</td>\n",
       "      <td>NaN</td>\n",
       "    </tr>\n",
       "    <tr>\n",
       "      <th>1</th>\n",
       "      <td>36963346-0445-45ce-bad0-b767325becb2</td>\n",
       "      <td>2015-09-10 12:32:45.212</td>\n",
       "      <td>2015-09-10T12:32:48.481Z</td>\n",
       "      <td>be209fe8-0ef3-4291-a5f4-c2b389f5d77d</td>\n",
       "      <td>8565a7b9-811b-4b56-9cae-c7eeb28314d7</td>\n",
       "      <td>NaN</td>\n",
       "      <td>NaN</td>\n",
       "      <td>NaN</td>\n",
       "      <td>NaN</td>\n",
       "      <td>NaN</td>\n",
       "      <td>...</td>\n",
       "      <td>start</td>\n",
       "      <td>[-6, 143]</td>\n",
       "      <td>NaN</td>\n",
       "      <td>NaN</td>\n",
       "      <td>NaN</td>\n",
       "      <td>NaN</td>\n",
       "      <td>NaN</td>\n",
       "      <td>NaN</td>\n",
       "      <td>null</td>\n",
       "      <td>NaN</td>\n",
       "    </tr>\n",
       "    <tr>\n",
       "      <th>2</th>\n",
       "      <td>7705c2aa-1de0-40c2-8cea-71e60b326f54</td>\n",
       "      <td>2015-09-10 12:33:35.665</td>\n",
       "      <td>2015-09-10T12:33:38.935Z</td>\n",
       "      <td>be209fe8-0ef3-4291-a5f4-c2b389f5d77d</td>\n",
       "      <td>8565a7b9-811b-4b56-9cae-c7eeb28314d7</td>\n",
       "      <td>NaN</td>\n",
       "      <td>NaN</td>\n",
       "      <td>NaN</td>\n",
       "      <td>NaN</td>\n",
       "      <td>NaN</td>\n",
       "      <td>...</td>\n",
       "      <td>reach</td>\n",
       "      <td>[-6, 134]</td>\n",
       "      <td>Checkpoint01</td>\n",
       "      <td>NaN</td>\n",
       "      <td>NaN</td>\n",
       "      <td>NaN</td>\n",
       "      <td>NaN</td>\n",
       "      <td>NaN</td>\n",
       "      <td>null</td>\n",
       "      <td>NaN</td>\n",
       "    </tr>\n",
       "    <tr>\n",
       "      <th>3</th>\n",
       "      <td>b327e325-bf7d-4ecc-9c7c-ab9b3894eedd</td>\n",
       "      <td>2015-09-10 13:41:43.245</td>\n",
       "      <td>2015-09-10T13:41:46.501Z</td>\n",
       "      <td>be209fe8-0ef3-4291-a5f4-c2b389f5d77d</td>\n",
       "      <td>4d9c1137-d582-4333-b264-e59eebd2b6d8</td>\n",
       "      <td>NaN</td>\n",
       "      <td>NaN</td>\n",
       "      <td>NaN</td>\n",
       "      <td>NaN</td>\n",
       "      <td>NaN</td>\n",
       "      <td>...</td>\n",
       "      <td>start</td>\n",
       "      <td>[-6, 143]</td>\n",
       "      <td>NaN</td>\n",
       "      <td>NaN</td>\n",
       "      <td>NaN</td>\n",
       "      <td>NaN</td>\n",
       "      <td>NaN</td>\n",
       "      <td>NaN</td>\n",
       "      <td>null</td>\n",
       "      <td>NaN</td>\n",
       "    </tr>\n",
       "    <tr>\n",
       "      <th>4</th>\n",
       "      <td>d00eb541-9be1-4483-b622-f72b30507adb</td>\n",
       "      <td>2015-09-10 13:41:53.529</td>\n",
       "      <td>2015-09-10T13:41:56.785Z</td>\n",
       "      <td>be209fe8-0ef3-4291-a5f4-c2b389f5d77d</td>\n",
       "      <td>4d9c1137-d582-4333-b264-e59eebd2b6d8</td>\n",
       "      <td>NaN</td>\n",
       "      <td>NaN</td>\n",
       "      <td>NaN</td>\n",
       "      <td>NaN</td>\n",
       "      <td>NaN</td>\n",
       "      <td>...</td>\n",
       "      <td>reach</td>\n",
       "      <td>[-4, 134]</td>\n",
       "      <td>Checkpoint01</td>\n",
       "      <td>NaN</td>\n",
       "      <td>NaN</td>\n",
       "      <td>NaN</td>\n",
       "      <td>NaN</td>\n",
       "      <td>NaN</td>\n",
       "      <td>null</td>\n",
       "      <td>NaN</td>\n",
       "    </tr>\n",
       "  </tbody>\n",
       "</table>\n",
       "<p>5 rows × 21 columns</p>\n",
       "</div>"
      ],
      "text/plain": [
       "                                     id              serverTime  \\\n",
       "0  13815a6e-da1d-4b1d-862f-6e394a4cec98 2015-09-10 12:32:45.204   \n",
       "1  36963346-0445-45ce-bad0-b767325becb2 2015-09-10 12:32:45.212   \n",
       "2  7705c2aa-1de0-40c2-8cea-71e60b326f54 2015-09-10 12:33:35.665   \n",
       "3  b327e325-bf7d-4ecc-9c7c-ab9b3894eedd 2015-09-10 13:41:43.245   \n",
       "4  d00eb541-9be1-4483-b622-f72b30507adb 2015-09-10 13:41:53.529   \n",
       "\n",
       "                   userTime                           gameVersion  \\\n",
       "0  2015-09-10T12:32:48.469Z  be209fe8-0ef3-4291-a5f4-c2b389f5d77d   \n",
       "1  2015-09-10T12:32:48.481Z  be209fe8-0ef3-4291-a5f4-c2b389f5d77d   \n",
       "2  2015-09-10T12:33:38.935Z  be209fe8-0ef3-4291-a5f4-c2b389f5d77d   \n",
       "3  2015-09-10T13:41:46.501Z  be209fe8-0ef3-4291-a5f4-c2b389f5d77d   \n",
       "4  2015-09-10T13:41:56.785Z  be209fe8-0ef3-4291-a5f4-c2b389f5d77d   \n",
       "\n",
       "                               playerId  playerBirthdate  playerRegion  \\\n",
       "0  2bb4a2ab-eaf1-4e0e-b2fe-5f5e88248733              NaN           NaN   \n",
       "1  8565a7b9-811b-4b56-9cae-c7eeb28314d7              NaN           NaN   \n",
       "2  8565a7b9-811b-4b56-9cae-c7eeb28314d7              NaN           NaN   \n",
       "3  4d9c1137-d582-4333-b264-e59eebd2b6d8              NaN           NaN   \n",
       "4  4d9c1137-d582-4333-b264-e59eebd2b6d8              NaN           NaN   \n",
       "\n",
       "   playerCountry  playerGender  playerExternalId        ...          type  \\\n",
       "0            NaN           NaN               NaN        ...         start   \n",
       "1            NaN           NaN               NaN        ...         start   \n",
       "2            NaN           NaN               NaN        ...         reach   \n",
       "3            NaN           NaN               NaN        ...         start   \n",
       "4            NaN           NaN               NaN        ...         reach   \n",
       "\n",
       "  coordinates       section customData.language customData.controls  \\\n",
       "0   [-6, 143]           NaN                 NaN                 NaN   \n",
       "1   [-6, 143]           NaN                 NaN                 NaN   \n",
       "2   [-6, 134]  Checkpoint01                 NaN                 NaN   \n",
       "3   [-6, 143]           NaN                 NaN                 NaN   \n",
       "4   [-4, 134]  Checkpoint01                 NaN                 NaN   \n",
       "\n",
       "  customData.device customData.sound customData.gamelevel customData  \\\n",
       "0               NaN              NaN                  NaN       null   \n",
       "1               NaN              NaN                  NaN       null   \n",
       "2               NaN              NaN                  NaN       null   \n",
       "3               NaN              NaN                  NaN       null   \n",
       "4               NaN              NaN                  NaN       null   \n",
       "\n",
       "  customData.dnabit  \n",
       "0               NaN  \n",
       "1               NaN  \n",
       "2               NaN  \n",
       "3               NaN  \n",
       "4               NaN  \n",
       "\n",
       "[5 rows x 21 columns]"
      ]
     },
     "execution_count": 98,
     "metadata": {},
     "output_type": "execute_result"
    }
   ],
   "source": [
    "df.head()"
   ]
  },
  {
   "cell_type": "markdown",
   "metadata": {},
   "source": [
    "## Unique Game Sessions"
   ]
  },
  {
   "cell_type": "markdown",
   "metadata": {},
   "source": [
    "Number of unique game sessions"
   ]
  },
  {
   "cell_type": "code",
   "execution_count": 99,
   "metadata": {
    "collapsed": false
   },
   "outputs": [
    {
     "data": {
      "text/plain": [
       "184"
      ]
     },
     "execution_count": 99,
     "metadata": {},
     "output_type": "execute_result"
    }
   ],
   "source": [
    "playerscount = df[\"playerId\"].nunique()\n",
    "playerscount"
   ]
  },
  {
   "cell_type": "markdown",
   "metadata": {},
   "source": [
    "## Generic Treatment"
   ]
  },
  {
   "cell_type": "markdown",
   "metadata": {},
   "source": [
    "Generic graph treatment"
   ]
  },
  {
   "cell_type": "code",
   "execution_count": 100,
   "metadata": {
    "collapsed": false
   },
   "outputs": [],
   "source": [
    "def genericTreatment( table, graphKind, xlabel, ylabel, isXPercentage=False, isYPercentage=False, xTotalCount=0, yTotalCount=0 ):\n",
    "        \n",
    "    if graphKind is None:\n",
    "        ax = table.plot()\n",
    "    else:\n",
    "        ax = table.plot(kind=graphKind)\n",
    "\n",
    "    plt.xlabel(xlabel)\n",
    "    plt.ylabel(ylabel)\n",
    "    plt.legend('') \n",
    "    \n",
    "    if isXPercentage:\n",
    "        xvals = ax.get_xticks()\n",
    "        ax.set_xticklabels(['{:3.2f}%'.format((x*100)/(xTotalCount-1)) for x in xvals])\n",
    "        \n",
    "    if isYPercentage: \n",
    "        yvals = ax.get_yticks()\n",
    "        ax.set_yticklabels(['{:3.2f}%'.format((x*100)/(yTotalCount-1)) for x in yvals])\n",
    "    \n",
    "    return"
   ]
  },
  {
   "cell_type": "code",
   "execution_count": 106,
   "metadata": {
    "collapsed": false,
    "scrolled": true
   },
   "outputs": [
    {
     "name": "stdout",
     "output_type": "stream",
     "text": [
      "gameSessionCount=184\n",
      "#craft=70\n",
      "mean=0.380434782609\n"
     ]
    },
    {
     "data": {
      "text/html": [
       "<div>\n",
       "<table border=\"1\" class=\"dataframe\">\n",
       "  <thead>\n",
       "    <tr style=\"text-align: right;\">\n",
       "      <th></th>\n",
       "      <th>crafts</th>\n",
       "    </tr>\n",
       "  </thead>\n",
       "  <tbody>\n",
       "    <tr>\n",
       "      <th>count</th>\n",
       "      <td>183.000000</td>\n",
       "    </tr>\n",
       "    <tr>\n",
       "      <th>mean</th>\n",
       "      <td>0.382514</td>\n",
       "    </tr>\n",
       "    <tr>\n",
       "      <th>std</th>\n",
       "      <td>1.987909</td>\n",
       "    </tr>\n",
       "    <tr>\n",
       "      <th>min</th>\n",
       "      <td>0.000000</td>\n",
       "    </tr>\n",
       "    <tr>\n",
       "      <th>25%</th>\n",
       "      <td>0.000000</td>\n",
       "    </tr>\n",
       "    <tr>\n",
       "      <th>50%</th>\n",
       "      <td>0.000000</td>\n",
       "    </tr>\n",
       "    <tr>\n",
       "      <th>75%</th>\n",
       "      <td>0.000000</td>\n",
       "    </tr>\n",
       "    <tr>\n",
       "      <th>max</th>\n",
       "      <td>18.000000</td>\n",
       "    </tr>\n",
       "  </tbody>\n",
       "</table>\n",
       "</div>"
      ],
      "text/plain": [
       "           crafts\n",
       "count  183.000000\n",
       "mean     0.382514\n",
       "std      1.987909\n",
       "min      0.000000\n",
       "25%      0.000000\n",
       "50%      0.000000\n",
       "75%      0.000000\n",
       "max     18.000000"
      ]
     },
     "execution_count": 106,
     "metadata": {},
     "output_type": "execute_result"
    },
    {
     "data": {
      "image/png": "[encoded data removed]",
      "text/plain": [
       "<matplotlib.figure.Figure at 0x10d413f10>"
      ]
     },
     "metadata": {},
     "output_type": "display_data"
    },
    {
     "data": {
      "image/png": "[encoded data removed]",
      "text/plain": [
       "<matplotlib.figure.Figure at 0x10db13ad0>"
      ]
     },
     "metadata": {},
     "output_type": "display_data"
    },
    {
     "data": {
      "image/png": "[encoded data removed]",
      "text/plain": [
       "<matplotlib.figure.Figure at 0x10e19de90>"
      ]
     },
     "metadata": {},
     "output_type": "display_data"
    },
    {
     "data": {
      "image/png": "[encoded data removed]",
      "text/plain": [
       "<matplotlib.figure.Figure at 0x10ee06110>"
      ]
     },
     "metadata": {},
     "output_type": "display_data"
    },
    {
     "data": {
      "image/png": "[encoded data removed]",
      "text/plain": [
       "<matplotlib.figure.Figure at 0x10b59a950>"
      ]
     },
     "metadata": {},
     "output_type": "display_data"
    },
    {
     "data": {
      "image/png": "[encoded data removed]",
      "text/plain": [
       "<matplotlib.figure.Figure at 0x10d413650>"
      ]
     },
     "metadata": {},
     "output_type": "display_data"
    },
    {
     "data": {
      "image/png": "[encoded data removed]",
      "text/plain": [
       "<matplotlib.figure.Figure at 0x10eb58bd0>"
      ]
     },
     "metadata": {},
     "output_type": "display_data"
    },
    {
     "data": {
      "image/png": "[encoded data removed]",
      "text/plain": [
       "<matplotlib.figure.Figure at 0x110048210>"
      ]
     },
     "metadata": {},
     "output_type": "display_data"
    }
   ],
   "source": [
    "gameSessionCount = df[\"playerId\"].nunique()\n",
    "print 'gameSessionCount={0}'.format(gameSessionCount)\n",
    "\n",
    "\n",
    "studiedEvent = \"craft\"\n",
    "\n",
    "percentageBarGraphMode = True\n",
    "barGraphMode = True\n",
    "percentageDefaultGraphMode = True\n",
    "defaultGraphMode = True\n",
    "\n",
    "\n",
    "columnName = studiedEvent+\"s\"\n",
    "graphLabel = \"crafted devices\"\n",
    "\n",
    "studiedEventCount = df[df[\"type\"]==studiedEvent][\"id\"].count()\n",
    "print '#{0}={1}'.format(studiedEvent,studiedEventCount)\n",
    "mean = studiedEventCount / float(gameSessionCount)\n",
    "print 'mean={0}'.format(mean)\n",
    "\n",
    "positiveGameSessions = df[df[\"type\"]==studiedEvent][\"playerId\"].value_counts()\n",
    "\n",
    "positiveGameSessionCount = positiveGameSessions.count()\n",
    "positiveGameSessionCountTable = pd.DataFrame({columnName: positiveGameSessions.values})\n",
    "\n",
    "if percentageBarGraphMode:\n",
    "    genericTreatment( positiveGameSessionCountTable, 'bar', \"game sessions (%)\", graphLabel,\n",
    "                     True, False, positiveGameSessionCount )\n",
    "if barGraphMode:\n",
    "    genericTreatment( positiveGameSessionCountTable, 'bar', \"game sessions (%)\", graphLabel)\n",
    "if percentageDefaultGraphMode:\n",
    "    genericTreatment( positiveGameSessionCountTable, None, \"game sessions (%)\", graphLabel,\n",
    "                     True, False, positiveGameSessionCount )\n",
    "if defaultGraphMode:\n",
    "    genericTreatment( positiveGameSessionCountTable, None, \"game sessions (%)\", graphLabel)\n",
    "\n",
    "vals = ax.get_yticks()\n",
    "ax.set_yticklabels(['{:3.2f}%'.format(x*100) for x in vals])\n",
    "\n",
    "positiveGameSessionCountTable.describe()\n",
    "\n",
    "negativeGameSessionCountSeries = pd.Series(0, index=(list(range(positiveGameSessionCount,gameSessionCount-1))))\n",
    "negativeGameSessionCountTable = pd.DataFrame({columnName: negativeGameSessionCountSeries})\n",
    "\n",
    "fullEventGameSessionCountTable = pd.concat([positiveGameSessionCountTable, negativeGameSessionCountTable]) \n",
    "    \n",
    "if percentageBarGraphMode:\n",
    "    genericTreatment( fullEventGameSessionCountTable, 'bar', \"game sessions (%)\", graphLabel,\n",
    "                     True, False, gameSessionCount )\n",
    "if barGraphMode:\n",
    "    genericTreatment( fullEventGameSessionCountTable, 'bar', \"game sessions\", graphLabel)\n",
    "if percentageDefaultGraphMode:\n",
    "    genericTreatment( fullEventGameSessionCountTable, None, \"game sessions (%)\", graphLabel,\n",
    "                     True, False, gameSessionCount )\n",
    "if defaultGraphMode:\n",
    "    genericTreatment( fullEventGameSessionCountTable, None, \"game sessions\", graphLabel)\n",
    "\n",
    "fullEventGameSessionCountTable.describe()"
   ]
  },
  {
   "cell_type": "code",
   "execution_count": null,
   "metadata": {
    "collapsed": false
   },
   "outputs": [],
   "source": [
    "print positiveGameSessionCountTable"
   ]
  },
  {
   "cell_type": "markdown",
   "metadata": {},
   "source": [
    "## Test: Axes' Labels"
   ]
  },
  {
   "cell_type": "code",
   "execution_count": null,
   "metadata": {
    "collapsed": false
   },
   "outputs": [],
   "source": [
    "gameSessionCount = df[\"playerId\"].nunique()\n",
    "print 'gameSessionCount={0}'.format(gameSessionCount)\n",
    "\n",
    "\n",
    "studiedEvent = \"craft\"\n",
    "\n",
    "percentageBarGraphMode = True\n",
    "barGraphMode = True\n",
    "percentageDefaultGraphMode = True\n",
    "defaultGraphMode = True\n",
    "\n",
    "\n",
    "\n",
    "columnName = studiedEvent+\"s\"\n",
    "graphLabel = columnName\n",
    "\n",
    "studiedEventCount = df[df[\"type\"]==studiedEvent][\"id\"].count()\n",
    "print '#{0}={1}'.format(studiedEvent,studiedEventCount)\n",
    "mean = studiedEventCount / float(gameSessionCount)\n",
    "print 'mean={0}'.format(mean)\n",
    "\n",
    "positiveGameSessions = df[df[\"type\"]==studiedEvent][\"playerId\"].value_counts()\n",
    "\n",
    "positiveGameSessionCount = positiveGameSessions.count()\n",
    "positiveGameSessionCountTable = pd.DataFrame({columnName: positiveGameSessions.values})\n",
    "\n",
    "ax = positiveGameSessionCountTable.plot()\n",
    "plt.xlabel(\"game sessions (%)\")\n",
    "plt.ylabel(graphLabel)\n",
    "plt.legend('')\n",
    "\n",
    "xvals = ax.get_xticks()\n",
    "yvals = ax.get_yticks()\n",
    "#percentage on y axis\n",
    "#ax.set_yticklabels(['{:3.2f}%'.format(x*100/studiedEventCount) for x in vals])\n",
    "#percentage on x axis\n",
    "ax.set_xticklabels(['{:3.2f}%'.format((x*100)/(positiveGameSessionCount-1)) for x in xvals])\n",
    "\n",
    "ax = positiveGameSessionCountTable.plot()\n",
    "plt.xlabel(\"game sessions\")\n",
    "plt.ylabel(graphLabel)\n",
    "plt.legend('')\n",
    "\n",
    "print '#positiveGameSession={0}'.format(positiveGameSessionCount)"
   ]
  }
 ],
 "metadata": {
  "kernelspec": {
   "display_name": "Python 2",
   "language": "python",
   "name": "python2"
  },
  "language_info": {
   "codemirror_mode": {
    "name": "ipython",
    "version": 2
   },
   "file_extension": ".py",
   "mimetype": "text/x-python",
   "name": "python",
   "nbconvert_exporter": "python",
   "pygments_lexer": "ipython2",
   "version": "2.7.10"
  }
 },
 "nbformat": 4,
 "nbformat_minor": 0
}
