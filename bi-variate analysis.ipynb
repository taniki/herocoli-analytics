{
 "cells": [
  {
   "cell_type": "code",
   "execution_count": 39,
   "metadata": {
    "collapsed": false
   },
   "outputs": [],
   "source": [
    "%matplotlib inline\n",
    "\n",
    "import numpy as np\n",
    "import pandas as pd\n",
    "import matplotlib.pyplot as plt \n",
    "import seaborn as sns"
   ]
  },
  {
   "cell_type": "code",
   "execution_count": 40,
   "metadata": {
    "collapsed": false
   },
   "outputs": [],
   "source": [
    "df = pd.read_csv(\"data/1.32.csv\")"
   ]
  },
  {
   "cell_type": "markdown",
   "metadata": {},
   "source": [
    "## checks"
   ]
  },
  {
   "cell_type": "code",
   "execution_count": 41,
   "metadata": {
    "collapsed": false
   },
   "outputs": [
    {
     "data": {
      "text/plain": [
       "u'0.17.0'"
      ]
     },
     "execution_count": 41,
     "metadata": {},
     "output_type": "execute_result"
    }
   ],
   "source": [
    "pd.__version__"
   ]
  },
  {
   "cell_type": "code",
   "execution_count": 42,
   "metadata": {
    "collapsed": false
   },
   "outputs": [
    {
     "data": {
      "text/plain": [
       "'1.10.1'"
      ]
     },
     "execution_count": 42,
     "metadata": {},
     "output_type": "execute_result"
    }
   ],
   "source": [
    "np.__version__"
   ]
  },
  {
   "cell_type": "markdown",
   "metadata": {},
   "source": [
    "## normalization"
   ]
  },
  {
   "cell_type": "code",
   "execution_count": 43,
   "metadata": {
    "collapsed": false
   },
   "outputs": [],
   "source": [
    "#df[\"id\"] = df[\"id\"].astype(str)\n",
    "df[\"userTime\"] = df[\"userTime\"].astype(pd.Timestamp)\n",
    "df[\"serverTime\"] = df[\"serverTime\"].astype(np.datetime64)\n",
    "#df[\"gameVersion\"] = df[\"gameVersion\"].astype(str)\n",
    "#df[\"gameVersion\"] = df[\"gameVersion\"].astype(str)\n",
    "#df[\"gameVersion\"] = df[\"gameVersion\"].astype(str)\n",
    "df[\"gameVersion\"] = df[\"gameVersion\"].astype(str)\n"
   ]
  },
  {
   "cell_type": "code",
   "execution_count": 44,
   "metadata": {
    "collapsed": false
   },
   "outputs": [
    {
     "data": {
      "text/html": [
       "<div>\n",
       "<table border=\"1\" class=\"dataframe\">\n",
       "  <thead>\n",
       "    <tr style=\"text-align: right;\">\n",
       "      <th></th>\n",
       "      <th>id</th>\n",
       "      <th>serverTime</th>\n",
       "      <th>userTime</th>\n",
       "      <th>gameVersion</th>\n",
       "      <th>playerId</th>\n",
       "      <th>playerBirthdate</th>\n",
       "      <th>playerRegion</th>\n",
       "      <th>playerCountry</th>\n",
       "      <th>playerGender</th>\n",
       "      <th>playerExternalId</th>\n",
       "      <th>...</th>\n",
       "      <th>type</th>\n",
       "      <th>coordinates</th>\n",
       "      <th>section</th>\n",
       "      <th>customData.language</th>\n",
       "      <th>customData.controls</th>\n",
       "      <th>customData.device</th>\n",
       "      <th>customData.sound</th>\n",
       "      <th>customData.gamelevel</th>\n",
       "      <th>customData</th>\n",
       "      <th>customData.dnabit</th>\n",
       "    </tr>\n",
       "  </thead>\n",
       "  <tbody>\n",
       "    <tr>\n",
       "      <th>0</th>\n",
       "      <td>13815a6e-da1d-4b1d-862f-6e394a4cec98</td>\n",
       "      <td>2015-09-10 12:32:45.204</td>\n",
       "      <td>2015-09-10T12:32:48.469Z</td>\n",
       "      <td>be209fe8-0ef3-4291-a5f4-c2b389f5d77d</td>\n",
       "      <td>2bb4a2ab-eaf1-4e0e-b2fe-5f5e88248733</td>\n",
       "      <td>NaN</td>\n",
       "      <td>NaN</td>\n",
       "      <td>NaN</td>\n",
       "      <td>NaN</td>\n",
       "      <td>NaN</td>\n",
       "      <td>...</td>\n",
       "      <td>start</td>\n",
       "      <td>[-6, 143]</td>\n",
       "      <td>NaN</td>\n",
       "      <td>NaN</td>\n",
       "      <td>NaN</td>\n",
       "      <td>NaN</td>\n",
       "      <td>NaN</td>\n",
       "      <td>NaN</td>\n",
       "      <td>null</td>\n",
       "      <td>NaN</td>\n",
       "    </tr>\n",
       "    <tr>\n",
       "      <th>1</th>\n",
       "      <td>36963346-0445-45ce-bad0-b767325becb2</td>\n",
       "      <td>2015-09-10 12:32:45.212</td>\n",
       "      <td>2015-09-10T12:32:48.481Z</td>\n",
       "      <td>be209fe8-0ef3-4291-a5f4-c2b389f5d77d</td>\n",
       "      <td>8565a7b9-811b-4b56-9cae-c7eeb28314d7</td>\n",
       "      <td>NaN</td>\n",
       "      <td>NaN</td>\n",
       "      <td>NaN</td>\n",
       "      <td>NaN</td>\n",
       "      <td>NaN</td>\n",
       "      <td>...</td>\n",
       "      <td>start</td>\n",
       "      <td>[-6, 143]</td>\n",
       "      <td>NaN</td>\n",
       "      <td>NaN</td>\n",
       "      <td>NaN</td>\n",
       "      <td>NaN</td>\n",
       "      <td>NaN</td>\n",
       "      <td>NaN</td>\n",
       "      <td>null</td>\n",
       "      <td>NaN</td>\n",
       "    </tr>\n",
       "    <tr>\n",
       "      <th>2</th>\n",
       "      <td>7705c2aa-1de0-40c2-8cea-71e60b326f54</td>\n",
       "      <td>2015-09-10 12:33:35.665</td>\n",
       "      <td>2015-09-10T12:33:38.935Z</td>\n",
       "      <td>be209fe8-0ef3-4291-a5f4-c2b389f5d77d</td>\n",
       "      <td>8565a7b9-811b-4b56-9cae-c7eeb28314d7</td>\n",
       "      <td>NaN</td>\n",
       "      <td>NaN</td>\n",
       "      <td>NaN</td>\n",
       "      <td>NaN</td>\n",
       "      <td>NaN</td>\n",
       "      <td>...</td>\n",
       "      <td>reach</td>\n",
       "      <td>[-6, 134]</td>\n",
       "      <td>Checkpoint01</td>\n",
       "      <td>NaN</td>\n",
       "      <td>NaN</td>\n",
       "      <td>NaN</td>\n",
       "      <td>NaN</td>\n",
       "      <td>NaN</td>\n",
       "      <td>null</td>\n",
       "      <td>NaN</td>\n",
       "    </tr>\n",
       "    <tr>\n",
       "      <th>3</th>\n",
       "      <td>b327e325-bf7d-4ecc-9c7c-ab9b3894eedd</td>\n",
       "      <td>2015-09-10 13:41:43.245</td>\n",
       "      <td>2015-09-10T13:41:46.501Z</td>\n",
       "      <td>be209fe8-0ef3-4291-a5f4-c2b389f5d77d</td>\n",
       "      <td>4d9c1137-d582-4333-b264-e59eebd2b6d8</td>\n",
       "      <td>NaN</td>\n",
       "      <td>NaN</td>\n",
       "      <td>NaN</td>\n",
       "      <td>NaN</td>\n",
       "      <td>NaN</td>\n",
       "      <td>...</td>\n",
       "      <td>start</td>\n",
       "      <td>[-6, 143]</td>\n",
       "      <td>NaN</td>\n",
       "      <td>NaN</td>\n",
       "      <td>NaN</td>\n",
       "      <td>NaN</td>\n",
       "      <td>NaN</td>\n",
       "      <td>NaN</td>\n",
       "      <td>null</td>\n",
       "      <td>NaN</td>\n",
       "    </tr>\n",
       "    <tr>\n",
       "      <th>4</th>\n",
       "      <td>d00eb541-9be1-4483-b622-f72b30507adb</td>\n",
       "      <td>2015-09-10 13:41:53.529</td>\n",
       "      <td>2015-09-10T13:41:56.785Z</td>\n",
       "      <td>be209fe8-0ef3-4291-a5f4-c2b389f5d77d</td>\n",
       "      <td>4d9c1137-d582-4333-b264-e59eebd2b6d8</td>\n",
       "      <td>NaN</td>\n",
       "      <td>NaN</td>\n",
       "      <td>NaN</td>\n",
       "      <td>NaN</td>\n",
       "      <td>NaN</td>\n",
       "      <td>...</td>\n",
       "      <td>reach</td>\n",
       "      <td>[-4, 134]</td>\n",
       "      <td>Checkpoint01</td>\n",
       "      <td>NaN</td>\n",
       "      <td>NaN</td>\n",
       "      <td>NaN</td>\n",
       "      <td>NaN</td>\n",
       "      <td>NaN</td>\n",
       "      <td>null</td>\n",
       "      <td>NaN</td>\n",
       "    </tr>\n",
       "  </tbody>\n",
       "</table>\n",
       "<p>5 rows × 21 columns</p>\n",
       "</div>"
      ],
      "text/plain": [
       "                                     id              serverTime  \\\n",
       "0  13815a6e-da1d-4b1d-862f-6e394a4cec98 2015-09-10 12:32:45.204   \n",
       "1  36963346-0445-45ce-bad0-b767325becb2 2015-09-10 12:32:45.212   \n",
       "2  7705c2aa-1de0-40c2-8cea-71e60b326f54 2015-09-10 12:33:35.665   \n",
       "3  b327e325-bf7d-4ecc-9c7c-ab9b3894eedd 2015-09-10 13:41:43.245   \n",
       "4  d00eb541-9be1-4483-b622-f72b30507adb 2015-09-10 13:41:53.529   \n",
       "\n",
       "                   userTime                           gameVersion  \\\n",
       "0  2015-09-10T12:32:48.469Z  be209fe8-0ef3-4291-a5f4-c2b389f5d77d   \n",
       "1  2015-09-10T12:32:48.481Z  be209fe8-0ef3-4291-a5f4-c2b389f5d77d   \n",
       "2  2015-09-10T12:33:38.935Z  be209fe8-0ef3-4291-a5f4-c2b389f5d77d   \n",
       "3  2015-09-10T13:41:46.501Z  be209fe8-0ef3-4291-a5f4-c2b389f5d77d   \n",
       "4  2015-09-10T13:41:56.785Z  be209fe8-0ef3-4291-a5f4-c2b389f5d77d   \n",
       "\n",
       "                               playerId  playerBirthdate  playerRegion  \\\n",
       "0  2bb4a2ab-eaf1-4e0e-b2fe-5f5e88248733              NaN           NaN   \n",
       "1  8565a7b9-811b-4b56-9cae-c7eeb28314d7              NaN           NaN   \n",
       "2  8565a7b9-811b-4b56-9cae-c7eeb28314d7              NaN           NaN   \n",
       "3  4d9c1137-d582-4333-b264-e59eebd2b6d8              NaN           NaN   \n",
       "4  4d9c1137-d582-4333-b264-e59eebd2b6d8              NaN           NaN   \n",
       "\n",
       "   playerCountry  playerGender  playerExternalId        ...          type  \\\n",
       "0            NaN           NaN               NaN        ...         start   \n",
       "1            NaN           NaN               NaN        ...         start   \n",
       "2            NaN           NaN               NaN        ...         reach   \n",
       "3            NaN           NaN               NaN        ...         start   \n",
       "4            NaN           NaN               NaN        ...         reach   \n",
       "\n",
       "  coordinates       section customData.language customData.controls  \\\n",
       "0   [-6, 143]           NaN                 NaN                 NaN   \n",
       "1   [-6, 143]           NaN                 NaN                 NaN   \n",
       "2   [-6, 134]  Checkpoint01                 NaN                 NaN   \n",
       "3   [-6, 143]           NaN                 NaN                 NaN   \n",
       "4   [-4, 134]  Checkpoint01                 NaN                 NaN   \n",
       "\n",
       "  customData.device customData.sound customData.gamelevel customData  \\\n",
       "0               NaN              NaN                  NaN       null   \n",
       "1               NaN              NaN                  NaN       null   \n",
       "2               NaN              NaN                  NaN       null   \n",
       "3               NaN              NaN                  NaN       null   \n",
       "4               NaN              NaN                  NaN       null   \n",
       "\n",
       "  customData.dnabit  \n",
       "0               NaN  \n",
       "1               NaN  \n",
       "2               NaN  \n",
       "3               NaN  \n",
       "4               NaN  \n",
       "\n",
       "[5 rows x 21 columns]"
      ]
     },
     "execution_count": 44,
     "metadata": {},
     "output_type": "execute_result"
    }
   ],
   "source": [
    "df.head()"
   ]
  },
  {
   "cell_type": "markdown",
   "metadata": {},
   "source": [
    "## Game versions"
   ]
  },
  {
   "cell_type": "code",
   "execution_count": 45,
   "metadata": {
    "collapsed": false
   },
   "outputs": [
    {
     "data": {
      "text/plain": [
       "be209fe8-0ef3-4291-a5f4-c2b389f5d77d    1774\n",
       "Name: gameVersion, dtype: int64"
      ]
     },
     "execution_count": 45,
     "metadata": {},
     "output_type": "execute_result"
    }
   ],
   "source": [
    "#df.groupby(\"gameVersion\").size().plot(kind=\"bar\")\n",
    "# plt.figure();\n",
    "# df[\"gameVersion\"].astype(str).plot(kind=\"hist\")\n",
    "\n",
    "df[\"gameVersion\"].value_counts()"
   ]
  },
  {
   "cell_type": "markdown",
   "metadata": {},
   "source": [
    "## Unique Game Sessions"
   ]
  },
  {
   "cell_type": "markdown",
   "metadata": {},
   "source": [
    "Number of unique game sessions"
   ]
  },
  {
   "cell_type": "code",
   "execution_count": 46,
   "metadata": {
    "collapsed": false
   },
   "outputs": [
    {
     "data": {
      "text/plain": [
       "184"
      ]
     },
     "execution_count": 46,
     "metadata": {},
     "output_type": "execute_result"
    }
   ],
   "source": [
    "playerscount = df[\"playerId\"].nunique()\n",
    "playerscount"
   ]
  },
  {
   "cell_type": "markdown",
   "metadata": {},
   "source": [
    "## Events per Player"
   ]
  },
  {
   "cell_type": "code",
   "execution_count": 47,
   "metadata": {
    "collapsed": false,
    "scrolled": true
   },
   "outputs": [
    {
     "data": {
      "text/plain": [
       "<matplotlib.legend.Legend at 0x10c585b10>"
      ]
     },
     "execution_count": 47,
     "metadata": {},
     "output_type": "execute_result"
    },
    {
     "data": {
      "image/png": "[encoded data removed]",
      "text/plain": [
       "<matplotlib.figure.Figure at 0x10c585a10>"
      ]
     },
     "metadata": {},
     "output_type": "display_data"
    }
   ],
   "source": [
    "eventstable = pd.DataFrame({\"events\" : df[\"playerId\"].value_counts().values})\n",
    "eventstable.plot()\n",
    "plt.ylabel(\"events count\")\n",
    "plt.xlabel(\"player index\")\n",
    "plt.legend('')"
   ]
  },
  {
   "cell_type": "markdown",
   "metadata": {},
   "source": [
    "## Deaths"
   ]
  },
  {
   "cell_type": "code",
   "execution_count": 48,
   "metadata": {
    "collapsed": false
   },
   "outputs": [
    {
     "data": {
      "text/plain": [
       "229"
      ]
     },
     "execution_count": 48,
     "metadata": {},
     "output_type": "execute_result"
    }
   ],
   "source": [
    "deathscount = df[df[\"type\"]==\"death\"][\"id\"].count()\n",
    "deathscount"
   ]
  },
  {
   "cell_type": "code",
   "execution_count": 49,
   "metadata": {
    "collapsed": false
   },
   "outputs": [
    {
     "data": {
      "text/plain": [
       "1.2445652173913044"
      ]
     },
     "execution_count": 49,
     "metadata": {},
     "output_type": "execute_result"
    }
   ],
   "source": [
    "deathscount / float(playerscount)"
   ]
  },
  {
   "cell_type": "code",
   "execution_count": 50,
   "metadata": {
    "collapsed": false
   },
   "outputs": [
    {
     "data": {
      "text/plain": [
       "50"
      ]
     },
     "execution_count": 50,
     "metadata": {},
     "output_type": "execute_result"
    }
   ],
   "source": [
    "deadplayers = df[df[\"type\"]==\"death\"][\"playerId\"].value_counts()\n",
    "deadplayerscount = deadplayers.count()\n",
    "deadplayerscount"
   ]
  },
  {
   "cell_type": "code",
   "execution_count": 51,
   "metadata": {
    "collapsed": false
   },
   "outputs": [
    {
     "data": {
      "text/html": [
       "<div>\n",
       "<table border=\"1\" class=\"dataframe\">\n",
       "  <thead>\n",
       "    <tr style=\"text-align: right;\">\n",
       "      <th></th>\n",
       "      <th>deaths</th>\n",
       "    </tr>\n",
       "  </thead>\n",
       "  <tbody>\n",
       "    <tr>\n",
       "      <th>count</th>\n",
       "      <td>50.000000</td>\n",
       "    </tr>\n",
       "    <tr>\n",
       "      <th>mean</th>\n",
       "      <td>4.580000</td>\n",
       "    </tr>\n",
       "    <tr>\n",
       "      <th>std</th>\n",
       "      <td>5.620988</td>\n",
       "    </tr>\n",
       "    <tr>\n",
       "      <th>min</th>\n",
       "      <td>1.000000</td>\n",
       "    </tr>\n",
       "    <tr>\n",
       "      <th>25%</th>\n",
       "      <td>1.000000</td>\n",
       "    </tr>\n",
       "    <tr>\n",
       "      <th>50%</th>\n",
       "      <td>2.000000</td>\n",
       "    </tr>\n",
       "    <tr>\n",
       "      <th>75%</th>\n",
       "      <td>5.000000</td>\n",
       "    </tr>\n",
       "    <tr>\n",
       "      <th>max</th>\n",
       "      <td>24.000000</td>\n",
       "    </tr>\n",
       "  </tbody>\n",
       "</table>\n",
       "</div>"
      ],
      "text/plain": [
       "          deaths\n",
       "count  50.000000\n",
       "mean    4.580000\n",
       "std     5.620988\n",
       "min     1.000000\n",
       "25%     1.000000\n",
       "50%     2.000000\n",
       "75%     5.000000\n",
       "max    24.000000"
      ]
     },
     "execution_count": 51,
     "metadata": {},
     "output_type": "execute_result"
    },
    {
     "data": {
      "image/png": "[encoded data removed]",
      "text/plain": [
       "<matplotlib.figure.Figure at 0x10c59a7d0>"
      ]
     },
     "metadata": {},
     "output_type": "display_data"
    }
   ],
   "source": [
    "deathtable = pd.DataFrame({\"deaths\" : deadplayers.values})\n",
    "deathtable.plot()\n",
    "plt.xlabel(\"player index\")\n",
    "plt.ylabel(\"deaths\")\n",
    "plt.legend('')\n",
    "deathtable.describe()"
   ]
  },
  {
   "cell_type": "code",
   "execution_count": 88,
   "metadata": {
    "collapsed": false
   },
   "outputs": [
    {
     "name": "stdout",
     "output_type": "stream",
     "text": [
      "0      0.0\n",
      "1     18.4\n",
      "2     36.8\n",
      "3     55.2\n",
      "4     73.6\n",
      "5     92.0\n",
      "6    110.4\n",
      "7    128.8\n",
      "8    147.2\n",
      "9    165.6\n",
      "dtype: float64\n"
     ]
    },
    {
     "data": {
      "text/html": [
       "<div>\n",
       "<table border=\"1\" class=\"dataframe\">\n",
       "  <thead>\n",
       "    <tr style=\"text-align: right;\">\n",
       "      <th></th>\n",
       "      <th>deaths</th>\n",
       "    </tr>\n",
       "  </thead>\n",
       "  <tbody>\n",
       "    <tr>\n",
       "      <th>count</th>\n",
       "      <td>183.000000</td>\n",
       "    </tr>\n",
       "    <tr>\n",
       "      <th>mean</th>\n",
       "      <td>1.251366</td>\n",
       "    </tr>\n",
       "    <tr>\n",
       "      <th>std</th>\n",
       "      <td>3.562964</td>\n",
       "    </tr>\n",
       "    <tr>\n",
       "      <th>min</th>\n",
       "      <td>0.000000</td>\n",
       "    </tr>\n",
       "    <tr>\n",
       "      <th>25%</th>\n",
       "      <td>0.000000</td>\n",
       "    </tr>\n",
       "    <tr>\n",
       "      <th>50%</th>\n",
       "      <td>0.000000</td>\n",
       "    </tr>\n",
       "    <tr>\n",
       "      <th>75%</th>\n",
       "      <td>1.000000</td>\n",
       "    </tr>\n",
       "    <tr>\n",
       "      <th>max</th>\n",
       "      <td>24.000000</td>\n",
       "    </tr>\n",
       "  </tbody>\n",
       "</table>\n",
       "</div>"
      ],
      "text/plain": [
       "           deaths\n",
       "count  183.000000\n",
       "mean     1.251366\n",
       "std      3.562964\n",
       "min      0.000000\n",
       "25%      0.000000\n",
       "50%      0.000000\n",
       "75%      1.000000\n",
       "max     24.000000"
      ]
     },
     "execution_count": 88,
     "metadata": {},
     "output_type": "execute_result"
    },
    {
     "data": {
      "image/png": "[encoded data removed]",
      "text/plain": [
       "<matplotlib.figure.Figure at 0x10cc1a5d0>"
      ]
     },
     "metadata": {},
     "output_type": "display_data"
    }
   ],
   "source": [
    "neverdeadseries = pd.Series(0, index=(list(range(deadplayerscount,playerscount-1))))\n",
    "neverdead = pd.DataFrame({\"deaths\":neverdeadseries})\n",
    "alldeathtable = pd.concat([deathtable, neverdead]) \n",
    "ax = alldeathtable.plot()\n",
    "plt.xlabel(\"player index\")\n",
    "plt.ylabel(\"deaths\")\n",
    "plt.legend('')\n",
    "\n",
    "alldeathtable.describe()"
   ]
  },
  {
   "cell_type": "markdown",
   "metadata": {},
   "source": [
    "## Equipped Devices"
   ]
  },
  {
   "cell_type": "markdown",
   "metadata": {},
   "source": [
    "Number of devices equipped by players"
   ]
  },
  {
   "cell_type": "code",
   "execution_count": 53,
   "metadata": {
    "collapsed": false
   },
   "outputs": [
    {
     "data": {
      "text/plain": [
       "241"
      ]
     },
     "execution_count": 53,
     "metadata": {},
     "output_type": "execute_result"
    }
   ],
   "source": [
    "equipscount = df[df[\"type\"]==\"equip\"][\"id\"].count()\n",
    "equipscount"
   ]
  },
  {
   "cell_type": "markdown",
   "metadata": {},
   "source": [
    "Mean number of devices equipped by players"
   ]
  },
  {
   "cell_type": "code",
   "execution_count": 54,
   "metadata": {
    "collapsed": false
   },
   "outputs": [
    {
     "data": {
      "text/plain": [
       "1.3097826086956521"
      ]
     },
     "execution_count": 54,
     "metadata": {},
     "output_type": "execute_result"
    }
   ],
   "source": [
    "mean = equipscount / float(playerscount)\n",
    "mean"
   ]
  },
  {
   "cell_type": "markdown",
   "metadata": {},
   "source": [
    "Number of players who equipped devices"
   ]
  },
  {
   "cell_type": "code",
   "execution_count": 55,
   "metadata": {
    "collapsed": false
   },
   "outputs": [
    {
     "data": {
      "text/plain": [
       "59"
      ]
     },
     "execution_count": 55,
     "metadata": {},
     "output_type": "execute_result"
    }
   ],
   "source": [
    "equipedplayers = df[df[\"type\"]==\"equip\"][\"playerId\"].value_counts()\n",
    "equipedplayerscount = equipedplayers.count()\n",
    "equipedplayerscount"
   ]
  },
  {
   "cell_type": "code",
   "execution_count": 56,
   "metadata": {
    "collapsed": false
   },
   "outputs": [
    {
     "data": {
      "text/html": [
       "<div>\n",
       "<table border=\"1\" class=\"dataframe\">\n",
       "  <thead>\n",
       "    <tr style=\"text-align: right;\">\n",
       "      <th></th>\n",
       "      <th>equips</th>\n",
       "    </tr>\n",
       "  </thead>\n",
       "  <tbody>\n",
       "    <tr>\n",
       "      <th>count</th>\n",
       "      <td>183.000000</td>\n",
       "    </tr>\n",
       "    <tr>\n",
       "      <th>mean</th>\n",
       "      <td>1.316940</td>\n",
       "    </tr>\n",
       "    <tr>\n",
       "      <th>std</th>\n",
       "      <td>3.700028</td>\n",
       "    </tr>\n",
       "    <tr>\n",
       "      <th>min</th>\n",
       "      <td>0.000000</td>\n",
       "    </tr>\n",
       "    <tr>\n",
       "      <th>25%</th>\n",
       "      <td>0.000000</td>\n",
       "    </tr>\n",
       "    <tr>\n",
       "      <th>50%</th>\n",
       "      <td>0.000000</td>\n",
       "    </tr>\n",
       "    <tr>\n",
       "      <th>75%</th>\n",
       "      <td>1.000000</td>\n",
       "    </tr>\n",
       "    <tr>\n",
       "      <th>max</th>\n",
       "      <td>31.000000</td>\n",
       "    </tr>\n",
       "  </tbody>\n",
       "</table>\n",
       "</div>"
      ],
      "text/plain": [
       "           equips\n",
       "count  183.000000\n",
       "mean     1.316940\n",
       "std      3.700028\n",
       "min      0.000000\n",
       "25%      0.000000\n",
       "50%      0.000000\n",
       "75%      1.000000\n",
       "max     31.000000"
      ]
     },
     "execution_count": 56,
     "metadata": {},
     "output_type": "execute_result"
    },
    {
     "data": {
      "image/png": "[encoded data removed]",
      "text/plain": [
       "<matplotlib.figure.Figure at 0x10b685410>"
      ]
     },
     "metadata": {},
     "output_type": "display_data"
    },
    {
     "data": {
      "image/png": "[encoded data removed]",
      "text/plain": [
       "<matplotlib.figure.Figure at 0x10b6d0b10>"
      ]
     },
     "metadata": {},
     "output_type": "display_data"
    }
   ],
   "source": [
    "equiptable = pd.DataFrame({\"equips\" : equipedplayers.values})\n",
    "equiptable.plot()\n",
    "plt.xlabel(\"player index\")\n",
    "plt.ylabel(\"equipped devices\")\n",
    "plt.legend('')\n",
    "equiptable.describe()\n",
    "neverequipedseries = pd.Series(0, index=(list(range(equipedplayerscount,playerscount-1))))\n",
    "neverequiped = pd.DataFrame({\"equips\":neverequipedseries})\n",
    "allequiptable = pd.concat([equiptable, neverequiped]) \n",
    "allequiptable.plot()\n",
    "plt.xlabel(\"player index\")\n",
    "plt.ylabel(\"equipped devices\")\n",
    "plt.legend('')\n",
    "allequiptable.describe()\n"
   ]
  },
  {
   "cell_type": "markdown",
   "metadata": {},
   "source": [
    "## Crafted Devices"
   ]
  },
  {
   "cell_type": "code",
   "execution_count": 57,
   "metadata": {
    "collapsed": false,
    "scrolled": true
   },
   "outputs": [
    {
     "data": {
      "text/plain": [
       "70"
      ]
     },
     "execution_count": 57,
     "metadata": {},
     "output_type": "execute_result"
    }
   ],
   "source": [
    "craftscount = df[df[\"type\"]==\"craft\"][\"id\"].count()\n",
    "craftscount"
   ]
  },
  {
   "cell_type": "code",
   "execution_count": 58,
   "metadata": {
    "collapsed": false
   },
   "outputs": [
    {
     "data": {
      "text/plain": [
       "0.38043478260869568"
      ]
     },
     "execution_count": 58,
     "metadata": {},
     "output_type": "execute_result"
    }
   ],
   "source": [
    "mean = craftscount / float(playerscount)\n",
    "mean"
   ]
  },
  {
   "cell_type": "code",
   "execution_count": 59,
   "metadata": {
    "collapsed": false
   },
   "outputs": [
    {
     "data": {
      "text/plain": [
       "21"
      ]
     },
     "execution_count": 59,
     "metadata": {},
     "output_type": "execute_result"
    }
   ],
   "source": [
    "craftedplayers = df[df[\"type\"]==\"craft\"][\"playerId\"].value_counts()\n",
    "\n",
    "craftedplayerscount = craftedplayers.count()\n",
    "craftedplayerscount"
   ]
  },
  {
   "cell_type": "code",
   "execution_count": 60,
   "metadata": {
    "collapsed": false
   },
   "outputs": [
    {
     "data": {
      "text/html": [
       "<div>\n",
       "<table border=\"1\" class=\"dataframe\">\n",
       "  <thead>\n",
       "    <tr style=\"text-align: right;\">\n",
       "      <th></th>\n",
       "      <th>crafts</th>\n",
       "    </tr>\n",
       "  </thead>\n",
       "  <tbody>\n",
       "    <tr>\n",
       "      <th>count</th>\n",
       "      <td>183.000000</td>\n",
       "    </tr>\n",
       "    <tr>\n",
       "      <th>mean</th>\n",
       "      <td>0.382514</td>\n",
       "    </tr>\n",
       "    <tr>\n",
       "      <th>std</th>\n",
       "      <td>1.987909</td>\n",
       "    </tr>\n",
       "    <tr>\n",
       "      <th>min</th>\n",
       "      <td>0.000000</td>\n",
       "    </tr>\n",
       "    <tr>\n",
       "      <th>25%</th>\n",
       "      <td>0.000000</td>\n",
       "    </tr>\n",
       "    <tr>\n",
       "      <th>50%</th>\n",
       "      <td>0.000000</td>\n",
       "    </tr>\n",
       "    <tr>\n",
       "      <th>75%</th>\n",
       "      <td>0.000000</td>\n",
       "    </tr>\n",
       "    <tr>\n",
       "      <th>max</th>\n",
       "      <td>18.000000</td>\n",
       "    </tr>\n",
       "  </tbody>\n",
       "</table>\n",
       "</div>"
      ],
      "text/plain": [
       "           crafts\n",
       "count  183.000000\n",
       "mean     0.382514\n",
       "std      1.987909\n",
       "min      0.000000\n",
       "25%      0.000000\n",
       "50%      0.000000\n",
       "75%      0.000000\n",
       "max     18.000000"
      ]
     },
     "execution_count": 60,
     "metadata": {},
     "output_type": "execute_result"
    },
    {
     "data": {
      "image/png": "[encoded data removed]",
      "text/plain": [
       "<matplotlib.figure.Figure at 0x10bdb3250>"
      ]
     },
     "metadata": {},
     "output_type": "display_data"
    },
    {
     "data": {
      "image/png": "[encoded data removed]",
      "text/plain": [
       "<matplotlib.figure.Figure at 0x10cc1a0d0>"
      ]
     },
     "metadata": {},
     "output_type": "display_data"
    }
   ],
   "source": [
    "crafttable = pd.DataFrame({\"crafts\" : craftedplayers.values})\n",
    "crafttable.plot()\n",
    "\n",
    "plt.xlabel(\"player index\")\n",
    "plt.ylabel(\"crafted devices\")\n",
    "\n",
    "plt.legend('')\n",
    "crafttable.describe()\n",
    "\n",
    "nevercraftedseries = pd.Series(0, index=(list(range(craftedplayerscount,playerscount-1))))\n",
    "nevercrafted = pd.DataFrame({\"crafts\":nevercraftedseries})\n",
    "\n",
    "allcrafttable = pd.concat([crafttable, nevercrafted]) \n",
    "allcrafttable.plot()\n",
    "\n",
    "plt.xlabel(\"player index\")\n",
    "plt.ylabel(\"crafted devices\")\n",
    "\n",
    "plt.legend('')\n",
    "allcrafttable.describe()"
   ]
  },
  {
   "cell_type": "markdown",
   "metadata": {
    "collapsed": true
   },
   "source": [
    "## Completion"
   ]
  },
  {
   "cell_type": "markdown",
   "metadata": {
    "collapsed": true
   },
   "source": [
    "Number of finished games"
   ]
  },
  {
   "cell_type": "code",
   "execution_count": 61,
   "metadata": {
    "collapsed": false
   },
   "outputs": [
    {
     "data": {
      "text/plain": [
       "11"
      ]
     },
     "execution_count": 61,
     "metadata": {},
     "output_type": "execute_result"
    }
   ],
   "source": [
    "completescount = df[df[\"type\"]==\"complete\"][\"id\"].count()\n",
    "completescount"
   ]
  },
  {
   "cell_type": "markdown",
   "metadata": {},
   "source": [
    "Mean number of games finished by players"
   ]
  },
  {
   "cell_type": "code",
   "execution_count": 62,
   "metadata": {
    "collapsed": false
   },
   "outputs": [
    {
     "data": {
      "text/plain": [
       "0.059782608695652176"
      ]
     },
     "execution_count": 62,
     "metadata": {},
     "output_type": "execute_result"
    }
   ],
   "source": [
    "mean = completescount / float(playerscount)\n",
    "mean"
   ]
  },
  {
   "cell_type": "markdown",
   "metadata": {
    "collapsed": true
   },
   "source": [
    "Number of players who finished a game"
   ]
  },
  {
   "cell_type": "code",
   "execution_count": 63,
   "metadata": {
    "collapsed": false
   },
   "outputs": [
    {
     "data": {
      "text/plain": [
       "9"
      ]
     },
     "execution_count": 63,
     "metadata": {},
     "output_type": "execute_result"
    }
   ],
   "source": [
    "completedplayers = df[df[\"type\"]==\"complete\"][\"playerId\"].value_counts()\n",
    "\n",
    "completedplayerscount = completedplayers.count()\n",
    "completedplayerscount"
   ]
  },
  {
   "cell_type": "code",
   "execution_count": 64,
   "metadata": {
    "collapsed": false
   },
   "outputs": [
    {
     "data": {
      "text/html": [
       "<div>\n",
       "<table border=\"1\" class=\"dataframe\">\n",
       "  <thead>\n",
       "    <tr style=\"text-align: right;\">\n",
       "      <th></th>\n",
       "      <th>completes</th>\n",
       "    </tr>\n",
       "  </thead>\n",
       "  <tbody>\n",
       "    <tr>\n",
       "      <th>count</th>\n",
       "      <td>183.000000</td>\n",
       "    </tr>\n",
       "    <tr>\n",
       "      <th>mean</th>\n",
       "      <td>0.060109</td>\n",
       "    </tr>\n",
       "    <tr>\n",
       "      <th>std</th>\n",
       "      <td>0.280686</td>\n",
       "    </tr>\n",
       "    <tr>\n",
       "      <th>min</th>\n",
       "      <td>0.000000</td>\n",
       "    </tr>\n",
       "    <tr>\n",
       "      <th>25%</th>\n",
       "      <td>0.000000</td>\n",
       "    </tr>\n",
       "    <tr>\n",
       "      <th>50%</th>\n",
       "      <td>0.000000</td>\n",
       "    </tr>\n",
       "    <tr>\n",
       "      <th>75%</th>\n",
       "      <td>0.000000</td>\n",
       "    </tr>\n",
       "    <tr>\n",
       "      <th>max</th>\n",
       "      <td>2.000000</td>\n",
       "    </tr>\n",
       "  </tbody>\n",
       "</table>\n",
       "</div>"
      ],
      "text/plain": [
       "        completes\n",
       "count  183.000000\n",
       "mean     0.060109\n",
       "std      0.280686\n",
       "min      0.000000\n",
       "25%      0.000000\n",
       "50%      0.000000\n",
       "75%      0.000000\n",
       "max      2.000000"
      ]
     },
     "execution_count": 64,
     "metadata": {},
     "output_type": "execute_result"
    },
    {
     "data": {
      "image/png": "[encoded data removed]",
      "text/plain": [
       "<matplotlib.figure.Figure at 0x10cc8a590>"
      ]
     },
     "metadata": {},
     "output_type": "display_data"
    },
    {
     "data": {
      "image/png": "[encoded data removed]",
      "text/plain": [
       "<matplotlib.figure.Figure at 0x10cbc91d0>"
      ]
     },
     "metadata": {},
     "output_type": "display_data"
    }
   ],
   "source": [
    "completetable = pd.DataFrame({\"completes\" : completedplayers.values})\n",
    "completetable.plot()\n",
    "\n",
    "plt.xlabel(\"player index\")\n",
    "plt.ylabel(\"completed games\")\n",
    "\n",
    "plt.legend('')\n",
    "completetable.describe()\n",
    "\n",
    "nevercompletedseries = pd.Series(0, index=(list(range(completedplayerscount,playerscount-1))))\n",
    "nevercompleted = pd.DataFrame({\"completes\":nevercompletedseries})\n",
    "\n",
    "allcompletetable = pd.concat([completetable, nevercompleted]) \n",
    "allcompletetable.plot()\n",
    "\n",
    "plt.xlabel(\"player index\")\n",
    "plt.ylabel(\"completed games\")\n",
    "\n",
    "plt.legend('')\n",
    "allcompletetable.describe()"
   ]
  },
  {
   "cell_type": "markdown",
   "metadata": {},
   "source": [
    "Checkpoint reached by players"
   ]
  },
  {
   "cell_type": "code",
   "execution_count": 65,
   "metadata": {
    "collapsed": false
   },
   "outputs": [
    {
     "data": {
      "text/plain": [
       "Checkpoint01    171\n",
       "Checkpoint02     80\n",
       "Checkpoint03     31\n",
       "Checkpoint04     23\n",
       "Checkpoint05     23\n",
       "Checkpoint06     26\n",
       "Checkpoint07     23\n",
       "Checkpoint08     29\n",
       "Name: section, dtype: int64"
      ]
     },
     "execution_count": 65,
     "metadata": {},
     "output_type": "execute_result"
    }
   ],
   "source": [
    "checkpoints = df[df[\"type\"]==\"reach\"][\"section\"].value_counts()\n",
    "checkpoints = checkpoints.sort_index()\n",
    "checkpoints"
   ]
  },
  {
   "cell_type": "code",
   "execution_count": 66,
   "metadata": {
    "collapsed": false
   },
   "outputs": [
    {
     "data": {
      "text/plain": [
       "<matplotlib.legend.Legend at 0x10cc29290>"
      ]
     },
     "execution_count": 66,
     "metadata": {},
     "output_type": "execute_result"
    },
    {
     "data": {
      "image/png": "[encoded data removed]",
      "text/plain": [
       "<matplotlib.figure.Figure at 0x10cc29e10>"
      ]
     },
     "metadata": {},
     "output_type": "display_data"
    }
   ],
   "source": [
    "checkpointstable = pd.DataFrame({\"checkpoints\" : checkpoints.values})\n",
    "checkpointstable.plot()\n",
    "plt.ylabel(\"number of players\")\n",
    "plt.xlabel(\"checkpoints reached\")\n",
    "plt.legend('')"
   ]
  },
  {
   "cell_type": "code",
   "execution_count": 67,
   "metadata": {
    "collapsed": false,
    "scrolled": true
   },
   "outputs": [
    {
     "data": {
      "text/html": [
       "<div>\n",
       "<table border=\"1\" class=\"dataframe\">\n",
       "  <thead>\n",
       "    <tr style=\"text-align: right;\">\n",
       "      <th></th>\n",
       "      <th>section</th>\n",
       "    </tr>\n",
       "    <tr>\n",
       "      <th>playerId</th>\n",
       "      <th></th>\n",
       "    </tr>\n",
       "  </thead>\n",
       "  <tbody>\n",
       "    <tr>\n",
       "      <th>00bd9fde-4cae-4e3e-ab3f-6aabeab58f62</th>\n",
       "      <td>Checkpoint08</td>\n",
       "    </tr>\n",
       "    <tr>\n",
       "      <th>00c6213a-7a0e-4890-94b4-ac614e513668</th>\n",
       "      <td>Checkpoint02</td>\n",
       "    </tr>\n",
       "    <tr>\n",
       "      <th>02c50a87-0ef8-4b7b-ae6b-420bfe38676e</th>\n",
       "      <td>Checkpoint07</td>\n",
       "    </tr>\n",
       "    <tr>\n",
       "      <th>048c0015-22c3-42f2-a5e9-1d3251e39155</th>\n",
       "      <td>Checkpoint01</td>\n",
       "    </tr>\n",
       "    <tr>\n",
       "      <th>0653abe5-f04a-4015-a13a-877cd1076038</th>\n",
       "      <td>Checkpoint01</td>\n",
       "    </tr>\n",
       "  </tbody>\n",
       "</table>\n",
       "</div>"
      ],
      "text/plain": [
       "                                           section\n",
       "playerId                                          \n",
       "00bd9fde-4cae-4e3e-ab3f-6aabeab58f62  Checkpoint08\n",
       "00c6213a-7a0e-4890-94b4-ac614e513668  Checkpoint02\n",
       "02c50a87-0ef8-4b7b-ae6b-420bfe38676e  Checkpoint07\n",
       "048c0015-22c3-42f2-a5e9-1d3251e39155  Checkpoint01\n",
       "0653abe5-f04a-4015-a13a-877cd1076038  Checkpoint01"
      ]
     },
     "execution_count": 67,
     "metadata": {},
     "output_type": "execute_result"
    }
   ],
   "source": [
    "checkpointsbyplayer = df[df[\"type\"]==\"reach\"].loc[:,['section','playerId']]\n",
    "grouped = checkpointsbyplayer.groupby(\"playerId\")\n",
    "maxCheckpointWithIDs = grouped.max()\n",
    "maxCheckpointWithIDs.head()"
   ]
  },
  {
   "cell_type": "code",
   "execution_count": 68,
   "metadata": {
    "collapsed": false
   },
   "outputs": [
    {
     "data": {
      "text/plain": [
       "117"
      ]
     },
     "execution_count": 68,
     "metadata": {},
     "output_type": "execute_result"
    }
   ],
   "source": [
    "reachedplayers = df[df[\"type\"]==\"reach\"][\"playerId\"].value_counts()\n",
    "reachedplayerscount = reachedplayers.count()\n",
    "reachedplayerscount"
   ]
  },
  {
   "cell_type": "code",
   "execution_count": 69,
   "metadata": {
    "collapsed": false
   },
   "outputs": [
    {
     "data": {
      "text/plain": [
       "Checkpoint00     0\n",
       "Checkpoint01    47\n",
       "Checkpoint02    29\n",
       "Checkpoint03     4\n",
       "Checkpoint04     5\n",
       "Checkpoint05     2\n",
       "Checkpoint06     3\n",
       "Checkpoint07     7\n",
       "Checkpoint08    20\n",
       "Name: maxCheckpoint, dtype: int64"
      ]
     },
     "execution_count": 69,
     "metadata": {},
     "output_type": "execute_result"
    }
   ],
   "source": [
    "maxCheckpointTable = pd.DataFrame({\"maxCheckpoint\" : maxCheckpointWithIDs.values.flatten()})\n",
    "maxCheckpointCounts = maxCheckpointTable[\"maxCheckpoint\"].value_counts()\n",
    "maxCheckpointCounts['Checkpoint00'] = 0\n",
    "maxCheckpointCounts = maxCheckpointCounts.sort_index()\n",
    "maxCheckpointCounts"
   ]
  },
  {
   "cell_type": "code",
   "execution_count": 70,
   "metadata": {
    "collapsed": false
   },
   "outputs": [
    {
     "data": {
      "text/html": [
       "<div>\n",
       "<table border=\"1\" class=\"dataframe\">\n",
       "  <thead>\n",
       "    <tr style=\"text-align: right;\">\n",
       "      <th></th>\n",
       "      <th>maxCheckpoint</th>\n",
       "    </tr>\n",
       "  </thead>\n",
       "  <tbody>\n",
       "    <tr>\n",
       "      <th>count</th>\n",
       "      <td>9.000000</td>\n",
       "    </tr>\n",
       "    <tr>\n",
       "      <th>mean</th>\n",
       "      <td>13.000000</td>\n",
       "    </tr>\n",
       "    <tr>\n",
       "      <th>std</th>\n",
       "      <td>15.937377</td>\n",
       "    </tr>\n",
       "    <tr>\n",
       "      <th>min</th>\n",
       "      <td>0.000000</td>\n",
       "    </tr>\n",
       "    <tr>\n",
       "      <th>25%</th>\n",
       "      <td>3.000000</td>\n",
       "    </tr>\n",
       "    <tr>\n",
       "      <th>50%</th>\n",
       "      <td>5.000000</td>\n",
       "    </tr>\n",
       "    <tr>\n",
       "      <th>75%</th>\n",
       "      <td>20.000000</td>\n",
       "    </tr>\n",
       "    <tr>\n",
       "      <th>max</th>\n",
       "      <td>47.000000</td>\n",
       "    </tr>\n",
       "  </tbody>\n",
       "</table>\n",
       "</div>"
      ],
      "text/plain": [
       "       maxCheckpoint\n",
       "count       9.000000\n",
       "mean       13.000000\n",
       "std        15.937377\n",
       "min         0.000000\n",
       "25%         3.000000\n",
       "50%         5.000000\n",
       "75%        20.000000\n",
       "max        47.000000"
      ]
     },
     "execution_count": 70,
     "metadata": {},
     "output_type": "execute_result"
    },
    {
     "data": {
      "image/png": "[encoded data removed]",
      "text/plain": [
       "<matplotlib.figure.Figure at 0x10bfd1390>"
      ]
     },
     "metadata": {},
     "output_type": "display_data"
    }
   ],
   "source": [
    "maxCheckpointCountsTable = pd.DataFrame({\"maxCheckpoint\" : maxCheckpointCounts.values})\n",
    "maxCheckpointCountsTable.plot()\n",
    "plt.legend('')\n",
    "plt.ylabel(\"number of players\")\n",
    "plt.xlabel(\"best checkpoint reached\")\n",
    "maxCheckpointCountsTable.describe()"
   ]
  },
  {
   "cell_type": "code",
   "execution_count": 71,
   "metadata": {
    "collapsed": false
   },
   "outputs": [
    {
     "data": {
      "text/html": [
       "<div>\n",
       "<table border=\"1\" class=\"dataframe\">\n",
       "  <thead>\n",
       "    <tr style=\"text-align: right;\">\n",
       "      <th></th>\n",
       "      <th>maxCheckpoint</th>\n",
       "    </tr>\n",
       "  </thead>\n",
       "  <tbody>\n",
       "    <tr>\n",
       "      <th>0</th>\n",
       "      <td>0</td>\n",
       "    </tr>\n",
       "    <tr>\n",
       "      <th>1</th>\n",
       "      <td>47</td>\n",
       "    </tr>\n",
       "    <tr>\n",
       "      <th>2</th>\n",
       "      <td>29</td>\n",
       "    </tr>\n",
       "    <tr>\n",
       "      <th>3</th>\n",
       "      <td>4</td>\n",
       "    </tr>\n",
       "    <tr>\n",
       "      <th>4</th>\n",
       "      <td>5</td>\n",
       "    </tr>\n",
       "  </tbody>\n",
       "</table>\n",
       "</div>"
      ],
      "text/plain": [
       "   maxCheckpoint\n",
       "0              0\n",
       "1             47\n",
       "2             29\n",
       "3              4\n",
       "4              5"
      ]
     },
     "execution_count": 71,
     "metadata": {},
     "output_type": "execute_result"
    }
   ],
   "source": [
    "maxCheckpointCountsTable.head()"
   ]
  },
  {
   "cell_type": "code",
   "execution_count": 72,
   "metadata": {
    "collapsed": false
   },
   "outputs": [
    {
     "name": "stdout",
     "output_type": "stream",
     "text": [
      "   maxCheckpoint\n",
      "0             67\n",
      "1             47\n",
      "2             29\n",
      "3              4\n",
      "4              5\n"
     ]
    },
    {
     "data": {
      "text/html": [
       "<div>\n",
       "<table border=\"1\" class=\"dataframe\">\n",
       "  <thead>\n",
       "    <tr style=\"text-align: right;\">\n",
       "      <th></th>\n",
       "      <th>maxCheckpoint</th>\n",
       "    </tr>\n",
       "  </thead>\n",
       "  <tbody>\n",
       "    <tr>\n",
       "      <th>count</th>\n",
       "      <td>9.000000</td>\n",
       "    </tr>\n",
       "    <tr>\n",
       "      <th>mean</th>\n",
       "      <td>20.444444</td>\n",
       "    </tr>\n",
       "    <tr>\n",
       "      <th>std</th>\n",
       "      <td>23.130667</td>\n",
       "    </tr>\n",
       "    <tr>\n",
       "      <th>min</th>\n",
       "      <td>2.000000</td>\n",
       "    </tr>\n",
       "    <tr>\n",
       "      <th>25%</th>\n",
       "      <td>4.000000</td>\n",
       "    </tr>\n",
       "    <tr>\n",
       "      <th>50%</th>\n",
       "      <td>7.000000</td>\n",
       "    </tr>\n",
       "    <tr>\n",
       "      <th>75%</th>\n",
       "      <td>29.000000</td>\n",
       "    </tr>\n",
       "    <tr>\n",
       "      <th>max</th>\n",
       "      <td>67.000000</td>\n",
       "    </tr>\n",
       "  </tbody>\n",
       "</table>\n",
       "</div>"
      ],
      "text/plain": [
       "       maxCheckpoint\n",
       "count       9.000000\n",
       "mean       20.444444\n",
       "std        23.130667\n",
       "min         2.000000\n",
       "25%         4.000000\n",
       "50%         7.000000\n",
       "75%        29.000000\n",
       "max        67.000000"
      ]
     },
     "execution_count": 72,
     "metadata": {},
     "output_type": "execute_result"
    },
    {
     "data": {
      "image/png": "[encoded data removed]",
      "text/plain": [
       "<matplotlib.figure.Figure at 0x10b6a2e50>"
      ]
     },
     "metadata": {},
     "output_type": "display_data"
    },
    {
     "data": {
      "image/png": "[encoded data removed]",
      "text/plain": [
       "<matplotlib.figure.Figure at 0x10c929190>"
      ]
     },
     "metadata": {},
     "output_type": "display_data"
    },
    {
     "data": {
      "image/png": "[encoded data removed]",
      "text/plain": [
       "<matplotlib.figure.Figure at 0x10c773b90>"
      ]
     },
     "metadata": {},
     "output_type": "display_data"
    }
   ],
   "source": [
    "#allreachedtable = maxCheckpointCountsTable\n",
    "#allreachedtable.at[0, 'maxCheckpoint'] = playerscount - reachedplayerscount\n",
    "#allreachedtable.plot()\n",
    "\n",
    "maxCheckpointCounts['Checkpoint00'] = playerscount - reachedplayerscount\n",
    "maxCheckpointCountsTable = pd.DataFrame({\"maxCheckpoint\" : maxCheckpointCounts.values})\n",
    "\n",
    "maxCheckpointCountsTable.plot(kind='bar')\n",
    "plt.ylabel(\"number of players\")\n",
    "plt.xlabel(\"best checkpoint reached\")\n",
    "plt.legend('')\n",
    "\n",
    "print maxCheckpointCountsTable.head()\n",
    "\n",
    "maxCheckpointCountsTable.plot()\n",
    "plt.ylabel(\"players (%)\")\n",
    "plt.xlabel(\"best checkpoint reached\")\n",
    "plt.legend('')\n",
    "\n",
    "(maxCheckpointCountsTable*100/playerscount).plot(kind='bar')\n",
    "plt.ylabel(\"players (%)\")\n",
    "plt.xlabel(\"best checkpoint reached\")\n",
    "plt.legend('')\n",
    "\n",
    "maxCheckpointCountsTable.describe()"
   ]
  },
  {
   "cell_type": "markdown",
   "metadata": {},
   "source": [
    "## Event types"
   ]
  },
  {
   "cell_type": "code",
   "execution_count": 73,
   "metadata": {
    "collapsed": false
   },
   "outputs": [
    {
     "data": {
      "text/plain": [
       "reach        406\n",
       "configure    374\n",
       "equip        241\n",
       "death        229\n",
       "start        180\n",
       "pickup       102\n",
       "unequip       96\n",
       "craft         70\n",
       "switch        49\n",
       "restart       16\n",
       "complete      11\n",
       "Name: type, dtype: int64"
      ]
     },
     "execution_count": 73,
     "metadata": {},
     "output_type": "execute_result"
    }
   ],
   "source": [
    "df[\"type\"].value_counts()"
   ]
  },
  {
   "cell_type": "markdown",
   "metadata": {},
   "source": [
    "## Misc"
   ]
  },
  {
   "cell_type": "code",
   "execution_count": 74,
   "metadata": {
    "collapsed": false
   },
   "outputs": [
    {
     "data": {
      "text/html": [
       "<div>\n",
       "<table border=\"1\" class=\"dataframe\">\n",
       "  <thead>\n",
       "    <tr style=\"text-align: right;\">\n",
       "      <th></th>\n",
       "      <th>playerBirthdate</th>\n",
       "      <th>playerRegion</th>\n",
       "      <th>playerCountry</th>\n",
       "      <th>playerGender</th>\n",
       "      <th>playerExternalId</th>\n",
       "      <th>playerCustomData</th>\n",
       "    </tr>\n",
       "  </thead>\n",
       "  <tbody>\n",
       "    <tr>\n",
       "      <th>count</th>\n",
       "      <td>0</td>\n",
       "      <td>0</td>\n",
       "      <td>0</td>\n",
       "      <td>0</td>\n",
       "      <td>0</td>\n",
       "      <td>0</td>\n",
       "    </tr>\n",
       "    <tr>\n",
       "      <th>mean</th>\n",
       "      <td>NaN</td>\n",
       "      <td>NaN</td>\n",
       "      <td>NaN</td>\n",
       "      <td>NaN</td>\n",
       "      <td>NaN</td>\n",
       "      <td>NaN</td>\n",
       "    </tr>\n",
       "    <tr>\n",
       "      <th>std</th>\n",
       "      <td>NaN</td>\n",
       "      <td>NaN</td>\n",
       "      <td>NaN</td>\n",
       "      <td>NaN</td>\n",
       "      <td>NaN</td>\n",
       "      <td>NaN</td>\n",
       "    </tr>\n",
       "    <tr>\n",
       "      <th>min</th>\n",
       "      <td>NaN</td>\n",
       "      <td>NaN</td>\n",
       "      <td>NaN</td>\n",
       "      <td>NaN</td>\n",
       "      <td>NaN</td>\n",
       "      <td>NaN</td>\n",
       "    </tr>\n",
       "    <tr>\n",
       "      <th>25%</th>\n",
       "      <td>NaN</td>\n",
       "      <td>NaN</td>\n",
       "      <td>NaN</td>\n",
       "      <td>NaN</td>\n",
       "      <td>NaN</td>\n",
       "      <td>NaN</td>\n",
       "    </tr>\n",
       "    <tr>\n",
       "      <th>50%</th>\n",
       "      <td>NaN</td>\n",
       "      <td>NaN</td>\n",
       "      <td>NaN</td>\n",
       "      <td>NaN</td>\n",
       "      <td>NaN</td>\n",
       "      <td>NaN</td>\n",
       "    </tr>\n",
       "    <tr>\n",
       "      <th>75%</th>\n",
       "      <td>NaN</td>\n",
       "      <td>NaN</td>\n",
       "      <td>NaN</td>\n",
       "      <td>NaN</td>\n",
       "      <td>NaN</td>\n",
       "      <td>NaN</td>\n",
       "    </tr>\n",
       "    <tr>\n",
       "      <th>max</th>\n",
       "      <td>NaN</td>\n",
       "      <td>NaN</td>\n",
       "      <td>NaN</td>\n",
       "      <td>NaN</td>\n",
       "      <td>NaN</td>\n",
       "      <td>NaN</td>\n",
       "    </tr>\n",
       "  </tbody>\n",
       "</table>\n",
       "</div>"
      ],
      "text/plain": [
       "       playerBirthdate  playerRegion  playerCountry  playerGender  \\\n",
       "count                0             0              0             0   \n",
       "mean               NaN           NaN            NaN           NaN   \n",
       "std                NaN           NaN            NaN           NaN   \n",
       "min                NaN           NaN            NaN           NaN   \n",
       "25%                NaN           NaN            NaN           NaN   \n",
       "50%                NaN           NaN            NaN           NaN   \n",
       "75%                NaN           NaN            NaN           NaN   \n",
       "max                NaN           NaN            NaN           NaN   \n",
       "\n",
       "       playerExternalId  playerCustomData  \n",
       "count                 0                 0  \n",
       "mean                NaN               NaN  \n",
       "std                 NaN               NaN  \n",
       "min                 NaN               NaN  \n",
       "25%                 NaN               NaN  \n",
       "50%                 NaN               NaN  \n",
       "75%                 NaN               NaN  \n",
       "max                 NaN               NaN  "
      ]
     },
     "execution_count": 74,
     "metadata": {},
     "output_type": "execute_result"
    }
   ],
   "source": [
    "df.describe()"
   ]
  },
  {
   "cell_type": "code",
   "execution_count": 75,
   "metadata": {
    "collapsed": false
   },
   "outputs": [
    {
     "data": {
      "text/plain": [
       "array(['13815a6e-da1d-4b1d-862f-6e394a4cec98',\n",
       "       Timestamp('2015-09-10 12:32:45.204000'), '2015-09-10T12:32:48.469Z',\n",
       "       'be209fe8-0ef3-4291-a5f4-c2b389f5d77d',\n",
       "       '2bb4a2ab-eaf1-4e0e-b2fe-5f5e88248733', nan, nan, nan, nan, nan,\n",
       "       nan, 'start', '[-6, 143]', nan, nan, nan, nan, nan, nan, 'null', nan], dtype=object)"
      ]
     },
     "execution_count": 75,
     "metadata": {},
     "output_type": "execute_result"
    }
   ],
   "source": [
    "df.values[0]"
   ]
  }
 ],
 "metadata": {
  "kernelspec": {
   "display_name": "Python 2",
   "language": "python",
   "name": "python2"
  },
  "language_info": {
   "codemirror_mode": {
    "name": "ipython",
    "version": 2
   },
   "file_extension": ".py",
   "mimetype": "text/x-python",
   "name": "python",
   "nbconvert_exporter": "python",
   "pygments_lexer": "ipython2",
   "version": "2.7.10"
  }
 },
 "nbformat": 4,
 "nbformat_minor": 0
}
